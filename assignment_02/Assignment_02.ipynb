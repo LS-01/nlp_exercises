{
 "cells": [
  {
   "cell_type": "markdown",
   "metadata": {},
   "source": [
    "# Assignment 2\n"
   ]
  },
  {
   "cell_type": "markdown",
   "metadata": {},
   "source": [
    "#### 1. 复习上课内容以及复现课程代码"
   ]
  },
  {
   "cell_type": "markdown",
   "metadata": {},
   "source": [
    "在本部分，你需要在复习上课内容和课程代码后，复现课程代码。 "
   ]
  },
  {
   "cell_type": "markdown",
   "metadata": {},
   "source": [
    "#### 2. 回答以下理论题目"
   ]
  },
  {
   "cell_type": "markdown",
   "metadata": {},
   "source": [
    "###       < 评阅点 >： 答案是否正确完整"
   ]
  },
  {
   "cell_type": "markdown",
   "metadata": {},
   "source": [
    "###### 2.1 What conditions are required to make the BFS return the optimal solution ?"
   ]
  },
  {
   "cell_type": "markdown",
   "metadata": {},
   "source": [
    "无权图；针对边的权值不为负数的图，每次迭代时历史路径中找到当前最短路径，或对历史路径进行排序。"
   ]
  },
  {
   "cell_type": "markdown",
   "metadata": {},
   "source": [
    "##### 2.2 Is there a way to make DFS find the optimal solution ? (You may need to read some material about iterative DFS)"
   ]
  },
  {
   "cell_type": "markdown",
   "metadata": {},
   "source": [
    "迭代深化深度优先搜索(IDDFS)，对DFS的搜索深度加以限制，不断放宽搜索深度限制重复进行查找，直到找到目标。首先，可以从深度为0开始，即判断根节点是否为目标节点，如果不是，深度加一。当深度值为k时，查找距离根节点距离为k的所有节点中是否有目标节点，若有，直接返回，若没有，k=k+1，继续查找。本质上等价于BFS，但占用内存更少。"
   ]
  },
  {
   "cell_type": "markdown",
   "metadata": {},
   "source": [
    "##### 2.3 In what conditions BFS is a better choice than DFS and vice versa ?"
   ]
  },
  {
   "cell_type": "markdown",
   "metadata": {},
   "source": [
    "BFS：无权图或权值不为负数的图的最短路径等；\n",
    "DFS：图的遍历，检测连通性，单点路径等。"
   ]
  },
  {
   "cell_type": "markdown",
   "metadata": {},
   "source": [
    "##### 2.4 When can we use machine learning ?"
   ]
  },
  {
   "cell_type": "markdown",
   "metadata": {},
   "source": [
    "存在一种模型，无法通过数学公式准确计算这一模型，拥有大量数据。"
   ]
  },
  {
   "cell_type": "markdown",
   "metadata": {},
   "source": [
    "##### 2.5 What is the gradient of a function ?"
   ]
  },
  {
   "cell_type": "markdown",
   "metadata": {},
   "source": [
    "梯度是一个向量，表示函数在该点处的方向导数沿着该方向取得最大值，即函数在该点处沿着该方向变化最快，向量的模就是函数的变化率。"
   ]
  },
  {
   "cell_type": "markdown",
   "metadata": {},
   "source": [
    "##### 2.6 How can we find the maximum value of a function using the information of gradient ?"
   ]
  },
  {
   "cell_type": "markdown",
   "metadata": {},
   "source": [
    "函数在某点处沿着该点梯度的方向变化最快，根据该点处的导数值判断函数值沿着梯度方向增大或减小。\n",
    "若导数值为正，则函数值沿着梯度方向增大，向该方向递增直至导数值为0，此时取得函数极大值。\n",
    "若导数值为负，则函数值沿着梯度方向减小，向反方向递增直至导数值为0，此时取得函数极大值。"
   ]
  },
  {
   "cell_type": "markdown",
   "metadata": {},
   "source": [
    "#### 3. 实践部分  寻找地铁路线"
   ]
  },
  {
   "cell_type": "markdown",
   "metadata": {},
   "source": [
    "### < 评阅点 >  1: 爬虫爬取数据是否完整;  2:搜索算法是否正确"
   ]
  },
  {
   "cell_type": "markdown",
   "metadata": {},
   "source": [
    "In this part, although we recommend you to use Beijing subway, you still can use the subway map of any cities that you are interested in. "
   ]
  },
  {
   "cell_type": "markdown",
   "metadata": {},
   "source": [
    "Please using the search policy to implement an agent. This agent receives two input, one is @param start station and the other is @param destination. Your agent should give the optimal route based on Beijing Subway system."
   ]
  },
  {
   "cell_type": "markdown",
   "metadata": {},
   "source": [
    "Deadline: 2019-October-27"
   ]
  },
  {
   "cell_type": "markdown",
   "metadata": {},
   "source": [
    "#### Procedures"
   ]
  },
  {
   "cell_type": "markdown",
   "metadata": {},
   "source": [
    "#### 1. Get data from web.  "
   ]
  },
  {
   "cell_type": "markdown",
   "metadata": {},
   "source": [
    "Some tips: "
   ]
  },
  {
   "cell_type": "markdown",
   "metadata": {},
   "source": [
    "a. You might need this package: requests[https://2.python-requests.org/en/master/] to get webpages"
   ]
  },
  {
   "cell_type": "markdown",
   "metadata": {},
   "source": [
    "b.You might need to use Regular Expression and Beautiful Soap package to parse the webpages"
   ]
  },
  {
   "cell_type": "code",
   "execution_count": 1,
   "metadata": {},
   "outputs": [],
   "source": [
    "import requests\n",
    "import urllib3\n",
    "import re\n",
    "from bs4 import BeautifulSoup as bs\n",
    "from collections import defaultdict\n",
    "import json"
   ]
  },
  {
   "cell_type": "code",
   "execution_count": 2,
   "metadata": {},
   "outputs": [],
   "source": [
    "#获取北京地铁路线图，与实际站点位置有出入\n",
    "urllib3.disable_warnings()\n",
    "# https://map.bjsubway.com/subwaymap/interchange.xml\n",
    "r = requests.get('https://map.bjsubway.com/subwaymap/beijing.xml?v=2',verify=False)\n",
    "r.encoding = r.apparent_encoding"
   ]
  },
  {
   "cell_type": "code",
   "execution_count": 3,
   "metadata": {},
   "outputs": [],
   "source": [
    "#获取北京地铁实际经纬度\n",
    "r_real = requests.get('http://map.amap.com/service/subway?_1571808376994&srhdata=1100_drw_beijing.json',verify=False)\n",
    "r_real_text = json.loads(r_real.text)"
   ]
  },
  {
   "cell_type": "code",
   "execution_count": 4,
   "metadata": {},
   "outputs": [],
   "source": [
    "#通过正则表达式解析数据（北京地铁路线图）\n",
    "def general_subway_by_re(text):\n",
    "    subway = {}\n",
    "    \n",
    "    all_text = re.split('<l',text)\n",
    "    for t in all_text:\n",
    "        stub = re.findall('lid=\"(\\w+\\(?\\w?\\)?)\"',t)\n",
    "        if len(stub) == 0:\n",
    "            continue\n",
    "        stub = stub[0]\n",
    "        stat = re.findall('lb=\"(\\w+)\".* x=\" ?(-?\\d+) ?\".* y=\" ?(-?\\d+) ?\".* iu=\"(\\w+)\"',t)\n",
    "        subway[stub] = []\n",
    "        for i in range(len(stat)):\n",
    "            if stat[i][3] == 'true':\n",
    "                subway[stub].append(stat[i])\n",
    "    \n",
    "        loop = re.findall('loop=\"(\\w+)\"',t)[0]\n",
    "        if loop == 'true':\n",
    "            subway[stub].append(subway[stub][0])\n",
    "        elif subway[stub][0] == subway[stub][-1]:\n",
    "            subway[stub].append(False)\n",
    "    return subway"
   ]
  },
  {
   "cell_type": "code",
   "execution_count": 5,
   "metadata": {},
   "outputs": [
    {
     "data": {
      "text/plain": [
       "[('燕山', '-20', '1131')]"
      ]
     },
     "execution_count": 5,
     "metadata": {},
     "output_type": "execute_result"
    }
   ],
   "source": [
    "re.findall('lb=\"(\\w+)\" x=\"(-?\\d+)\" y=\"(\\d+)\"','<p n=\"0\" acc=\"151018517\" lb=\"燕山\" x=\"-20\" y=\"1131\" ds=\"0\" ud=\"2.606\" dd=\"0\"/>')"
   ]
  },
  {
   "cell_type": "code",
   "execution_count": 6,
   "metadata": {},
   "outputs": [
    {
     "data": {
      "text/plain": [
       "[('四惠', '1334', '799')]"
      ]
     },
     "execution_count": 6,
     "metadata": {},
     "output_type": "execute_result"
    }
   ],
   "source": [
    "re.findall('lb=\"(\\w+)\".* x=\"(-?\\d+)\".* y=\"(-?\\d+)\"','p n=\"0\" acc=\"151019777\" lb=\"四惠\" x=\"1334\" dy=\"-4.6\" y=\"799\" dox=\"0\" doy=\"-1\"')"
   ]
  },
  {
   "cell_type": "code",
   "execution_count": 7,
   "metadata": {},
   "outputs": [
    {
     "data": {
      "text/plain": [
       "[('西二旗', '757', '423')]"
      ]
     },
     "execution_count": 7,
     "metadata": {},
     "output_type": "execute_result"
    }
   ],
   "source": [
    "re.findall('lb=\"(\\w+)\".* x=\" ?(-?\\d+) ?\".* y=\" ?(-?\\d+) ?\"','p n=\"0\" acc=\"151019049\" lb=\"西二旗\" x=\"757 \" y=\"423\" uox=\"1\"')"
   ]
  },
  {
   "cell_type": "code",
   "execution_count": 8,
   "metadata": {},
   "outputs": [],
   "source": [
    "#通过BeautifulSoup解析数据（北京地铁路线图）\n",
    "def general_subway_by_bs(text):\n",
    "    bs_text = bs(text, 'xml')\n",
    "    subway = defaultdict(list)\n",
    "        \n",
    "    all_text = bs_text.find_all('l')\n",
    "    for t in all_text:\n",
    "        lid = t['lid']\n",
    "        loop = t['loop']\n",
    "        p = t.find_all('p')\n",
    "        for bp in p:\n",
    "            try:\n",
    "                lb = bp['lb']\n",
    "                if lb == '' or bp['iu'] == 'false':\n",
    "                    continue\n",
    "                x = bp['x']\n",
    "                y = bp['y']\n",
    "                subway[lid].append([lb, x, y])\n",
    "            except KeyError as e:\n",
    "                continue\n",
    "        if loop == 'true':\n",
    "            subway[lid].append(subway[lid][0])\n",
    "        elif subway[lid][0] == subway[lid][-1]:\n",
    "            subway[lid].append(False)\n",
    "    return subway"
   ]
  },
  {
   "cell_type": "code",
   "execution_count": 9,
   "metadata": {},
   "outputs": [],
   "source": [
    "# json解析（北京地铁实际位置图）\n",
    "def general_subway_by_real_text(text):\n",
    "    subway = defaultdict(list)\n",
    "        \n",
    "    all_text = text['l']\n",
    "    for t in all_text:\n",
    "        ln = t['kn']\n",
    "        lo = t['lo']\n",
    "        st = t['st']\n",
    "        for s in st:\n",
    "            n = s['n']\n",
    "            x_y = re.split(',', s['sl'])\n",
    "            x = x_y[0]\n",
    "            y = x_y[1]\n",
    "            subway[ln].append([n, x, y])\n",
    "        if lo == '1':\n",
    "            subway[ln].append(subway[ln][0])\n",
    "    return subway"
   ]
  },
  {
   "cell_type": "markdown",
   "metadata": {},
   "source": [
    "##### 2. Preprocessing data"
   ]
  },
  {
   "cell_type": "markdown",
   "metadata": {},
   "source": [
    "Some tips:"
   ]
  },
  {
   "cell_type": "markdown",
   "metadata": {},
   "source": [
    "a. Find a suitable way to save the data you get from the web. (Note: The way you use to save the data should be able to be used to create the graph that your agent is going to explore)"
   ]
  },
  {
   "cell_type": "code",
   "execution_count": 10,
   "metadata": {},
   "outputs": [],
   "source": [
    "def general_detail_info(subway):\n",
    "    station = {}\n",
    "    routes = defaultdict(list)\n",
    "    for k in subway.keys():\n",
    "        v = subway.get(k)\n",
    "        new_v = set()\n",
    "        back = True\n",
    "        if v[-1] == False:\n",
    "            v.pop()\n",
    "            back = False\n",
    "            new_v = []\n",
    "        v_len = len(v)\n",
    "        for i in range(v_len):\n",
    "            if i < v_len - 1:\n",
    "                routes[v[i][0]].append(v[i + 1][0])\n",
    "                if v[i][0] not in routes[v[i + 1][0]] and back:\n",
    "                    routes[v[i + 1][0]].append(v[i][0])\n",
    "            station[v[i][0]] = [float(v[i][1]), float(v[i][2])]\n",
    "            v[i] = v[i][0]\n",
    "            if back:\n",
    "                new_v.add(v[i])\n",
    "            else:\n",
    "                new_v.append(v[i])\n",
    "        subway[k] = new_v\n",
    "    return station, routes"
   ]
  },
  {
   "cell_type": "code",
   "execution_count": 11,
   "metadata": {},
   "outputs": [],
   "source": [
    "#subway = general_subway_by_re(r.text)\n",
    "subway = general_subway_by_bs(r.text)\n",
    "station, routes = general_detail_info(subway)"
   ]
  },
  {
   "cell_type": "code",
   "execution_count": 12,
   "metadata": {},
   "outputs": [],
   "source": [
    "import networkx as nw\n",
    "import matplotlib.pyplot as plt\n",
    "%matplotlib inline\n",
    "\n",
    "plt.rcParams['font.sans-serif'] = ['SimHei']\n",
    "plt.rcParams['axes.unicode_minus'] = False"
   ]
  },
  {
   "cell_type": "code",
   "execution_count": 14,
   "metadata": {},
   "outputs": [
    {
     "data": {
      "image/png": "[encoded data removed]",
      "text/plain": [
       "<Figure size 432x288 with 1 Axes>"
      ]
     },
     "metadata": {},
     "output_type": "display_data"
    }
   ],
   "source": [
    "station_graph = nw.Graph(routes)\n",
    "nw.draw(station_graph, station, with_labels=False, node_size=2)"
   ]
  },
  {
   "cell_type": "code",
   "execution_count": 15,
   "metadata": {},
   "outputs": [],
   "source": [
    "#北京地铁路线图与实际位置有差别，但北京地铁实际位置图地铁路线不够确定\n",
    "#比如首都机场线，东直门—>三元桥—>T3航站楼—>T2航站楼—>三元桥—>东直门\n",
    "#打算沿用北京地铁路线图的路线关系\n",
    "\n",
    "real_subway = general_subway_by_real_text(r_real_text)\n",
    "for v in real_subway.values():\n",
    "    for info in v:\n",
    "        if station.get(info[0]) is None:\n",
    "            if info[0] == 'T3航站楼':\n",
    "                station['3号航站楼'] = [float(info[1]), float(info[2])]\n",
    "            if info[0] == 'T2航站楼':\n",
    "                station['2号航站楼'] = [float(info[1]), float(info[2])]\n",
    "        else:\n",
    "            station[info[0]] = [float(info[1]), float(info[2])]"
   ]
  },
  {
   "cell_type": "code",
   "execution_count": 16,
   "metadata": {},
   "outputs": [
    {
     "data": {
      "image/png": "[encoded data removed]",
      "text/plain": [
       "<Figure size 432x288 with 1 Axes>"
      ]
     },
     "metadata": {},
     "output_type": "display_data"
    }
   ],
   "source": [
    "station_graph = nw.Graph(routes)\n",
    "nw.draw(station_graph, station, with_labels=False, node_size=2)"
   ]
  },
  {
   "cell_type": "markdown",
   "metadata": {},
   "source": [
    "#### 3. Build the search agent"
   ]
  },
  {
   "cell_type": "markdown",
   "metadata": {},
   "source": [
    "Build the search agent based ont he graph you built."
   ]
  },
  {
   "cell_type": "markdown",
   "metadata": {},
   "source": [
    "for example, if you use Beijing subway graoh, and you run:"
   ]
  },
  {
   "cell_type": "markdown",
   "metadata": {},
   "source": [
    "\\>>> search(\"奥体中心“，”天安门“）"
   ]
  },
  {
   "cell_type": "markdown",
   "metadata": {},
   "source": [
    "You should get the result as follows: 奥体中心 -> A ->B ->C ... -> 天安门"
   ]
  },
  {
   "cell_type": "code",
   "execution_count": 17,
   "metadata": {},
   "outputs": [],
   "source": [
    "def search(p_name1, p_name2):\n",
    "    if p_name1 == p_name2:\n",
    "        return [p_name1]\n",
    "    if station.get(p_name1) is None or station.get(p_name2) is None:\n",
    "        return\n",
    "    paths = [[p_name1]]\n",
    "    visited = set(p_name1)\n",
    "    while paths:\n",
    "        p = paths.pop(0)\n",
    "        #p = paths.pop()\n",
    "        successor = routes[p[-1]]\n",
    "        for s in successor:\n",
    "            if s in visited:\n",
    "                continue\n",
    "            path = p + [s]\n",
    "            #paths = [path] + paths\n",
    "            paths.append(path)\n",
    "            if s == p_name2:\n",
    "                return path\n",
    "            visited.add(s)"
   ]
  },
  {
   "cell_type": "code",
   "execution_count": 18,
   "metadata": {},
   "outputs": [],
   "source": [
    "search(\"奥体中心\",\"天安门\")"
   ]
  },
  {
   "cell_type": "code",
   "execution_count": 19,
   "metadata": {},
   "outputs": [],
   "source": [
    "search(\"奥体\",\"天安门西\")"
   ]
  },
  {
   "cell_type": "code",
   "execution_count": 20,
   "metadata": {},
   "outputs": [
    {
     "data": {
      "text/plain": [
       "['奥体中心',\n",
       " '北土城',\n",
       " '安华桥',\n",
       " '安德里北街',\n",
       " '鼓楼大街',\n",
       " '积水潭',\n",
       " '西直门',\n",
       " '车公庄',\n",
       " '阜成门',\n",
       " '复兴门',\n",
       " '西单',\n",
       " '天安门西']"
      ]
     },
     "execution_count": 20,
     "metadata": {},
     "output_type": "execute_result"
    }
   ],
   "source": [
    "search(\"奥体中心\",\"天安门西\")"
   ]
  },
  {
   "cell_type": "code",
   "execution_count": 21,
   "metadata": {},
   "outputs": [
    {
     "data": {
      "text/plain": [
       "['土桥',\n",
       " '临河里',\n",
       " '梨园',\n",
       " '九棵树',\n",
       " '果园',\n",
       " '通州北苑',\n",
       " '八里桥',\n",
       " '管庄',\n",
       " '双桥',\n",
       " '传媒大学',\n",
       " '高碑店',\n",
       " '四惠东',\n",
       " '四惠',\n",
       " '大望路',\n",
       " '国贸',\n",
       " '永安里',\n",
       " '建国门',\n",
       " '东单',\n",
       " '王府井',\n",
       " '天安门东',\n",
       " '天安门西']"
      ]
     },
     "execution_count": 21,
     "metadata": {},
     "output_type": "execute_result"
    }
   ],
   "source": [
    "search(\"土桥\",\"天安门西\")"
   ]
  },
  {
   "cell_type": "markdown",
   "metadata": {},
   "source": [
    "### (Optional) Improve your agent to make it able to find a path based on different strategies"
   ]
  },
  {
   "cell_type": "markdown",
   "metadata": {},
   "source": [
    "###  <评阅点> : 是否正确得到不同目标下的路径。"
   ]
  },
  {
   "cell_type": "markdown",
   "metadata": {},
   "source": [
    "Some ideas you might want to try:"
   ]
  },
  {
   "cell_type": "markdown",
   "metadata": {},
   "source": [
    "a. Find the shortest path between two stations."
   ]
  },
  {
   "cell_type": "code",
   "execution_count": 22,
   "metadata": {},
   "outputs": [],
   "source": [
    "import math\n",
    "def distance(p1, p2):\n",
    "    #return math.sqrt((p1[0] - p2[0]) ** 2 + (p1[1] - p2[1]) ** 2)\n",
    "    return geo_distance(p1, p2)\n",
    "\n",
    "def findMinIndex(l):\n",
    "    min_value = None\n",
    "    min_index = 0\n",
    "    l_len = len(l)\n",
    "    for i in range(l_len):\n",
    "        if min_value is None or l[i] < min_value:\n",
    "            min_value = l[i]\n",
    "            min_index = i\n",
    "    return min_index\n",
    "\n",
    "def swap(l, i, j):\n",
    "    v = l[i]\n",
    "    l[i] = l[j]\n",
    "    l[j] = v\n",
    "    \n",
    "def geo_distance(origin, destination):\n",
    "    \"\"\"\n",
    "    Calculate the Haversine distance.\n",
    "\n",
    "    Parameters\n",
    "    ----------\n",
    "    origin : tuple of float\n",
    "        (lat, long)\n",
    "    destination : tuple of float\n",
    "        (lat, long)\n",
    "\n",
    "    Returns\n",
    "    -------\n",
    "    distance_in_km : float\n",
    "\n",
    "    Examples\n",
    "    --------\n",
    "    >>> origin = (48.1372, 11.5756)  # Munich\n",
    "    >>> destination = (52.5186, 13.4083)  # Berlin\n",
    "    >>> round(distance(origin, destination), 1)\n",
    "    504.2\n",
    "    \"\"\"\n",
    "    lat1, lon1 = origin\n",
    "    lat2, lon2 = destination\n",
    "    radius = 6371  # km\n",
    "\n",
    "    dlat = math.radians(lat2 - lat1)\n",
    "    dlon = math.radians(lon2 - lon1)\n",
    "    a = (math.sin(dlat / 2) * math.sin(dlat / 2) +\n",
    "         math.cos(math.radians(lat1)) * math.cos(math.radians(lat2)) *\n",
    "         math.sin(dlon / 2) * math.sin(dlon / 2))\n",
    "    c = 2 * math.atan2(math.sqrt(a), math.sqrt(1 - a))\n",
    "    d = radius * c\n",
    "\n",
    "    return d"
   ]
  },
  {
   "cell_type": "code",
   "execution_count": 23,
   "metadata": {},
   "outputs": [],
   "source": [
    "def findShortestPath(p_name1, p_name2):\n",
    "    if station.get(p_name1) is None or station.get(p_name2) is None:\n",
    "        return\n",
    "    paths = [[p_name1]]\n",
    "    values = [0]\n",
    "    sum_value = [distance(station[p_name1], station[p_name2])]\n",
    "    \n",
    "    visited = {p_name1: 0}\n",
    "    while paths:\n",
    "        #min_index = findMinIndex(values)\n",
    "        min_index = findMinIndex(sum_value)\n",
    "        swap(sum_value, -1, min_index)\n",
    "        swap(values, -1, min_index)\n",
    "        swap(paths, -1, min_index)\n",
    "        \n",
    "        if paths[-1][-1] == p_name2:\n",
    "            return paths[-1]\n",
    "        \n",
    "        p = paths.pop()\n",
    "        v = values.pop()\n",
    "        sum_value.pop()\n",
    "        successor = routes[p[-1]]\n",
    "        for s in successor:\n",
    "            new_v = v + distance(station[p[-1]], station[s])\n",
    "            new_sum_v = new_v + distance(station[s], station[p_name2])\n",
    "            \n",
    "            if visited.get(s) is None or new_sum_v < visited[s]:\n",
    "                visited[s] = new_sum_v\n",
    "            else:\n",
    "                continue\n",
    "                \n",
    "            path = p + [s]\n",
    "            paths.append(path)\n",
    "            \n",
    "            values.append(new_v)\n",
    "            sum_value.append(new_sum_v)"
   ]
  },
  {
   "cell_type": "code",
   "execution_count": 24,
   "metadata": {},
   "outputs": [
    {
     "data": {
      "text/plain": [
       "['奥体中心',\n",
       " '北土城',\n",
       " '安华桥',\n",
       " '安德里北街',\n",
       " '鼓楼大街',\n",
       " '什刹海',\n",
       " '南锣鼓巷',\n",
       " '东四',\n",
       " '灯市口',\n",
       " '东单',\n",
       " '王府井',\n",
       " '天安门东',\n",
       " '天安门西']"
      ]
     },
     "execution_count": 24,
     "metadata": {},
     "output_type": "execute_result"
    }
   ],
   "source": [
    "findShortestPath(\"奥体中心\",\"天安门西\")"
   ]
  },
  {
   "cell_type": "code",
   "execution_count": 25,
   "metadata": {},
   "outputs": [],
   "source": [
    "findShortestPath(\"奥体中心\",\"天安门\")"
   ]
  },
  {
   "cell_type": "code",
   "execution_count": 26,
   "metadata": {},
   "outputs": [
    {
     "data": {
      "text/plain": [
       "['奥体中心',\n",
       " '北土城',\n",
       " '安华桥',\n",
       " '安德里北街',\n",
       " '鼓楼大街',\n",
       " '积水潭',\n",
       " '西直门',\n",
       " '车公庄',\n",
       " '车公庄西',\n",
       " '白石桥南',\n",
       " '白堆子',\n",
       " '军事博物馆',\n",
       " '北京西站',\n",
       " '六里桥东',\n",
       " '六里桥',\n",
       " '七里庄',\n",
       " '丰台东大街',\n",
       " '丰台南路',\n",
       " '科怡路',\n",
       " '丰台科技园',\n",
       " '郭公庄',\n",
       " '大葆台',\n",
       " '稻田',\n",
       " '长阳',\n",
       " '篱笆房',\n",
       " '广阳城',\n",
       " '良乡大学城北',\n",
       " '良乡大学城',\n",
       " '良乡大学城西',\n",
       " '良乡南关',\n",
       " '苏庄',\n",
       " '阎村东',\n",
       " '紫草坞',\n",
       " '阎村',\n",
       " '星城',\n",
       " '大石河东',\n",
       " '马各庄',\n",
       " '饶乐府',\n",
       " '房山城关',\n",
       " '燕山']"
      ]
     },
     "execution_count": 26,
     "metadata": {},
     "output_type": "execute_result"
    }
   ],
   "source": [
    "findShortestPath(\"奥体中心\",\"燕山\")"
   ]
  },
  {
   "cell_type": "markdown",
   "metadata": {},
   "source": [
    "b. Find the path that requires minimum transfers between two stations."
   ]
  },
  {
   "cell_type": "code",
   "execution_count": 27,
   "metadata": {},
   "outputs": [],
   "source": [
    "def sameRouteJudge(last_p, now_p, next_p):\n",
    "    for v in subway.values():\n",
    "        if type(v) == set:\n",
    "            if last_p in v and now_p in v and next_p in v:\n",
    "                return 0\n",
    "        elif type(v) == list:\n",
    "            i = 1\n",
    "            while i + 1 < len(v):\n",
    "                if v[i] == now_p and v[i - 1] == last_p and v[i + 1] == next_p:\n",
    "                    return 0\n",
    "                i += 1\n",
    "    return 1"
   ]
  },
  {
   "cell_type": "code",
   "execution_count": 28,
   "metadata": {},
   "outputs": [],
   "source": [
    "def findMinTransfers(p_name1, p_name2):\n",
    "    if station.get(p_name1) is None or station.get(p_name2) is None:\n",
    "        return\n",
    "    paths = [[p_name1]]\n",
    "    values = [0]\n",
    "    \n",
    "    visited = {p_name1: 0}\n",
    "    while paths:\n",
    "        min_index = findMinIndex(values)\n",
    "        swap(values, -1, min_index)\n",
    "        swap(paths, -1, min_index)\n",
    "        \n",
    "        p = paths.pop()\n",
    "        v = values.pop()\n",
    "        \n",
    "        if p[-1] == p_name2:\n",
    "            return p\n",
    "        \n",
    "        successor = routes[p[-1]]\n",
    "        for s in successor:\n",
    "            if s in p:\n",
    "                continue\n",
    "            r = v\n",
    "            if len(p) > 1:\n",
    "                r += sameRouteJudge(p[-2], p[-1], s)\n",
    "            if visited.get(s) is None or r <= visited[s]:\n",
    "                visited[s] = r\n",
    "            else:\n",
    "                continue\n",
    "            path = p + [s]\n",
    "            paths.append(path)\n",
    "            values.append(r)"
   ]
  },
  {
   "cell_type": "code",
   "execution_count": 29,
   "metadata": {},
   "outputs": [
    {
     "data": {
      "text/plain": [
       "['柳芳', '光熙门', '芍药居', '太阳宫', '三元桥', '亮马桥']"
      ]
     },
     "execution_count": 29,
     "metadata": {},
     "output_type": "execute_result"
    }
   ],
   "source": [
    "findMinTransfers(\"柳芳\",\"亮马桥\")"
   ]
  },
  {
   "cell_type": "code",
   "execution_count": 30,
   "metadata": {},
   "outputs": [
    {
     "data": {
      "text/plain": [
       "['奥体中心',\n",
       " '北土城',\n",
       " '安华桥',\n",
       " '安德里北街',\n",
       " '鼓楼大街',\n",
       " '安定门',\n",
       " '雍和宫',\n",
       " '东直门',\n",
       " '东四十条',\n",
       " '朝阳门',\n",
       " '建国门',\n",
       " '北京站',\n",
       " '崇文门',\n",
       " '前门',\n",
       " '和平门',\n",
       " '宣武门',\n",
       " '长椿街',\n",
       " '复兴门',\n",
       " '西单',\n",
       " '天安门西']"
      ]
     },
     "execution_count": 30,
     "metadata": {},
     "output_type": "execute_result"
    }
   ],
   "source": [
    "findMinTransfers(\"奥体中心\",\"天安门西\")"
   ]
  },
  {
   "cell_type": "code",
   "execution_count": 31,
   "metadata": {},
   "outputs": [
    {
     "data": {
      "text/plain": [
       "['2号航站楼', '三元桥', '3号航站楼']"
      ]
     },
     "execution_count": 31,
     "metadata": {},
     "output_type": "execute_result"
    }
   ],
   "source": [
    "findMinTransfers(\"2号航站楼\",\"3号航站楼\")"
   ]
  },
  {
   "cell_type": "code",
   "execution_count": 32,
   "metadata": {},
   "outputs": [
    {
     "data": {
      "text/plain": [
       "['3号航站楼', '2号航站楼']"
      ]
     },
     "execution_count": 32,
     "metadata": {},
     "output_type": "execute_result"
    }
   ],
   "source": [
    "findMinTransfers(\"3号航站楼\",\"2号航站楼\")"
   ]
  },
  {
   "cell_type": "code",
   "execution_count": 33,
   "metadata": {},
   "outputs": [],
   "source": [
    "findMinTransfers(\"奥体中心\",\"天安门\")"
   ]
  },
  {
   "cell_type": "code",
   "execution_count": 34,
   "metadata": {},
   "outputs": [
    {
     "data": {
      "text/plain": [
       "['东直门', '三元桥', '太阳宫']"
      ]
     },
     "execution_count": 34,
     "metadata": {},
     "output_type": "execute_result"
    }
   ],
   "source": [
    "findMinTransfers(\"东直门\",\"太阳宫\")"
   ]
  },
  {
   "cell_type": "code",
   "execution_count": 35,
   "metadata": {},
   "outputs": [
    {
     "data": {
      "text/plain": [
       "['奥体中心',\n",
       " '北土城',\n",
       " '健德门',\n",
       " '牡丹园',\n",
       " '西土城',\n",
       " '知春路',\n",
       " '知春里',\n",
       " '海淀黄庄',\n",
       " '苏州街',\n",
       " '巴沟',\n",
       " '火器营',\n",
       " '长春桥',\n",
       " '车道沟',\n",
       " '慈寿寺',\n",
       " '西钓鱼台',\n",
       " '公主坟',\n",
       " '莲花桥',\n",
       " '六里桥',\n",
       " '七里庄',\n",
       " '丰台东大街',\n",
       " '丰台南路',\n",
       " '科怡路',\n",
       " '丰台科技园',\n",
       " '郭公庄',\n",
       " '大葆台',\n",
       " '稻田',\n",
       " '长阳',\n",
       " '篱笆房',\n",
       " '广阳城',\n",
       " '良乡大学城北',\n",
       " '良乡大学城',\n",
       " '良乡大学城西',\n",
       " '良乡南关',\n",
       " '苏庄',\n",
       " '阎村东',\n",
       " '紫草坞',\n",
       " '阎村',\n",
       " '星城',\n",
       " '大石河东',\n",
       " '马各庄',\n",
       " '饶乐府',\n",
       " '房山城关',\n",
       " '燕山']"
      ]
     },
     "execution_count": 35,
     "metadata": {},
     "output_type": "execute_result"
    }
   ],
   "source": [
    "findMinTransfers(\"奥体中心\",\"燕山\")"
   ]
  },
  {
   "cell_type": "markdown",
   "metadata": {},
   "source": [
    "c. Combine the previous two ideas, find a more suitable path."
   ]
  },
  {
   "cell_type": "code",
   "execution_count": 36,
   "metadata": {},
   "outputs": [],
   "source": [
    "def findMinIndex(l):\n",
    "    min_value = None\n",
    "    min_index = 0\n",
    "    l_len = len(l)\n",
    "    for i in range(l_len):\n",
    "        if min_value is None or l[i] < min_value:\n",
    "            min_value = l[i]\n",
    "            min_index = i\n",
    "    return min_index\n",
    "\n",
    "def findMinTransfersAndShortestPath(p_name1, p_name2):\n",
    "    if station.get(p_name1) is None or station.get(p_name2) is None:\n",
    "        return\n",
    "    paths = [[p_name1]]\n",
    "    values = [[0, 0]]\n",
    "    \n",
    "    min_p = None\n",
    "    min_v = [0, 0]\n",
    "    \n",
    "    visited = {p_name1: 0}\n",
    "    while paths:\n",
    "        min_value = None\n",
    "        min_index = 0\n",
    "        l_len = len(values)\n",
    "        for i in range(l_len):\n",
    "            if min_value is None or values[i][0] < min_value[0] or (values[i][0] == min_value[0] and values[i][1] < min_value[1]):\n",
    "                min_value = values[i]\n",
    "                min_index = i\n",
    "        \n",
    "        swap(values, -1, min_index)\n",
    "        swap(paths, -1, min_index)\n",
    "        \n",
    "        p = paths.pop()\n",
    "        v = values.pop()\n",
    "        \n",
    "        if p[-1] == p_name2:\n",
    "            if min_p is None or min_v[0] > v[0] or (min_v[0] == v[0] and min_v[1] > v[1]):\n",
    "                min_p = p\n",
    "                min_v = v\n",
    "                continue\n",
    "        \n",
    "        successor = routes[p[-1]]\n",
    "        for s in successor:\n",
    "            if s in p:\n",
    "                continue\n",
    "            r = v[0]\n",
    "            if len(p) > 1:\n",
    "                r += sameRouteJudge(p[-2], p[-1], s)\n",
    "            if visited.get(s) is None or r <= visited[s]:\n",
    "                visited[s] = r\n",
    "            else:\n",
    "                continue\n",
    "            \n",
    "            path = p + [s]\n",
    "            paths.append(path)\n",
    "            values.append([r, v[1] + distance(station[p[-1]], station[s])])\n",
    "    return min_p"
   ]
  },
  {
   "cell_type": "code",
   "execution_count": 37,
   "metadata": {},
   "outputs": [
    {
     "data": {
      "text/plain": [
       "['奥体中心',\n",
       " '北土城',\n",
       " '安华桥',\n",
       " '安德里北街',\n",
       " '鼓楼大街',\n",
       " '积水潭',\n",
       " '西直门',\n",
       " '车公庄',\n",
       " '阜成门',\n",
       " '复兴门',\n",
       " '西单',\n",
       " '天安门西']"
      ]
     },
     "execution_count": 37,
     "metadata": {},
     "output_type": "execute_result"
    }
   ],
   "source": [
    "findMinTransfersAndShortestPath(\"奥体中心\",\"天安门西\")"
   ]
  },
  {
   "cell_type": "code",
   "execution_count": 38,
   "metadata": {},
   "outputs": [
    {
     "data": {
      "text/plain": [
       "['柳芳', '光熙门', '芍药居', '太阳宫', '三元桥', '亮马桥']"
      ]
     },
     "execution_count": 38,
     "metadata": {},
     "output_type": "execute_result"
    }
   ],
   "source": [
    "findMinTransfersAndShortestPath(\"柳芳\",\"亮马桥\")"
   ]
  },
  {
   "cell_type": "code",
   "execution_count": 39,
   "metadata": {},
   "outputs": [
    {
     "data": {
      "text/plain": [
       "['3号航站楼', '2号航站楼']"
      ]
     },
     "execution_count": 39,
     "metadata": {},
     "output_type": "execute_result"
    }
   ],
   "source": [
    "findMinTransfersAndShortestPath(\"3号航站楼\",\"2号航站楼\")"
   ]
  },
  {
   "cell_type": "code",
   "execution_count": 40,
   "metadata": {},
   "outputs": [
    {
     "data": {
      "text/plain": [
       "['2号航站楼', '三元桥', '3号航站楼']"
      ]
     },
     "execution_count": 40,
     "metadata": {},
     "output_type": "execute_result"
    }
   ],
   "source": [
    "findMinTransfersAndShortestPath(\"2号航站楼\",\"3号航站楼\")"
   ]
  },
  {
   "cell_type": "code",
   "execution_count": 41,
   "metadata": {},
   "outputs": [
    {
     "data": {
      "text/plain": [
       "['回龙观',\n",
       " '霍营',\n",
       " '立水桥',\n",
       " '北苑',\n",
       " '望京西',\n",
       " '芍药居',\n",
       " '太阳宫',\n",
       " '三元桥',\n",
       " '亮马桥',\n",
       " '农业展览馆',\n",
       " '团结湖',\n",
       " '呼家楼',\n",
       " '金台夕照',\n",
       " '国贸',\n",
       " '双井',\n",
       " '劲松',\n",
       " '潘家园',\n",
       " '十里河',\n",
       " '分钟寺',\n",
       " '成寿寺',\n",
       " '宋家庄',\n",
       " '石榴庄']"
      ]
     },
     "execution_count": 41,
     "metadata": {},
     "output_type": "execute_result"
    }
   ],
   "source": [
    "findMinTransfersAndShortestPath(\"回龙观\",\"石榴庄\")"
   ]
  },
  {
   "cell_type": "code",
   "execution_count": 42,
   "metadata": {},
   "outputs": [
    {
     "data": {
      "text/plain": [
       "['圆明园',\n",
       " '北京大学东门',\n",
       " '中关村',\n",
       " '海淀黄庄',\n",
       " '人民大学',\n",
       " '魏公村',\n",
       " '国家图书馆',\n",
       " '动物园',\n",
       " '西直门',\n",
       " '新街口',\n",
       " '平安里',\n",
       " '西四',\n",
       " '灵境胡同',\n",
       " '西单',\n",
       " '宣武门',\n",
       " '菜市口',\n",
       " '陶然亭',\n",
       " '北京南站',\n",
       " '永定门外',\n",
       " '景泰',\n",
       " '蒲黄榆',\n",
       " '方庄',\n",
       " '十里河',\n",
       " '北工大西门',\n",
       " '平乐园',\n",
       " '九龙山',\n",
       " '大望路',\n",
       " '金台路',\n",
       " '朝阳公园',\n",
       " '枣营',\n",
       " '东风北桥',\n",
       " '将台']"
      ]
     },
     "execution_count": 42,
     "metadata": {},
     "output_type": "execute_result"
    }
   ],
   "source": [
    "findMinTransfersAndShortestPath(\"圆明园\",\"将台\")"
   ]
  },
  {
   "cell_type": "markdown",
   "metadata": {},
   "source": [
    "Compare your results with results obtained by using some apps such as Baidu map, A map, Google map or Apple map. If there is difference, try to explanate it."
   ]
  },
  {
   "cell_type": "markdown",
   "metadata": {},
   "source": [
    "使用百度地图查看，考虑到起始结束时间，路费，其它出行方式等因素，部分结果不同。例如，“3号航站楼”到“2号航站楼”虽只有1站不用换乘，但由于票价过高，不在推荐之列。而“2号航站楼”到“3号航站楼”没有直达地铁，绕路距离太长，故也不在推荐方式之中。另外，百度地图避免了绕远路的情况，例如，“圆明园”到“将台”，我的路线仅包括一次换乘，百度地图首推的路线却有两次但是距离更短。不过考虑到换乘过程中等待时间，最佳路线还是得由用户自定。"
   ]
  },
  {
   "cell_type": "markdown",
   "metadata": {},
   "source": [
    "## Congratulations ! You have finished the assignment of week 2."
   ]
  },
  {
   "cell_type": "markdown",
   "metadata": {},
   "source": [
    "### If you have any suggestions regarding the teaching, please feel free to send them to my eamil (eric.lee.xiao@gmail.com) "
   ]
  },
  {
   "cell_type": "code",
   "execution_count": null,
   "metadata": {},
   "outputs": [],
   "source": []
  }
 ],
 "metadata": {
  "kernelspec": {
   "display_name": "Python 3",
   "language": "python",
   "name": "python3"
  },
  "language_info": {
   "codemirror_mode": {
    "name": "ipython",
    "version": 3
   },
   "file_extension": ".py",
   "mimetype": "text/x-python",
   "name": "python",
   "nbconvert_exporter": "python",
   "pygments_lexer": "ipython3",
   "version": "3.7.1"
  }
 },
 "nbformat": 4,
 "nbformat_minor": 2
}
