{
 "cells": [
  {
   "cell_type": "markdown",
   "metadata": {},
   "source": [
    "# Assignment 4"
   ]
  },
  {
   "cell_type": "markdown",
   "metadata": {},
   "source": [
    "### 1. 复习上课内容以及复现课程代码"
   ]
  },
  {
   "cell_type": "markdown",
   "metadata": {},
   "source": [
    "在本部分，你需要复习上课内容和课程代码后，自己复现课程代码。"
   ]
  },
  {
   "cell_type": "markdown",
   "metadata": {},
   "source": [
    "### 2. 回答一下理论题目"
   ]
  },
  {
   "cell_type": "markdown",
   "metadata": {},
   "source": [
    "#### 1. What does a neuron compute?"
   ]
  },
  {
   "cell_type": "markdown",
   "metadata": {},
   "source": [
    "模仿人类大脑的计算方式,神经元模型是一个包含输入，输出与计算功能的模型。计算过程包括一个线性函数和一个激活函数。"
   ]
  },
  {
   "cell_type": "markdown",
   "metadata": {},
   "source": [
    "####  2. Why we use non-linear activation funcitons in neural networks?"
   ]
  },
  {
   "cell_type": "markdown",
   "metadata": {},
   "source": [
    "在使用激活函数之前，神经元中的计算就是通过线性函数实现的，如果激活函数也是线性函数，那么相当于神经网络中的计算就是线性的，激活函数便没有意义了。"
   ]
  },
  {
   "cell_type": "markdown",
   "metadata": {},
   "source": [
    "#### 3. What is the 'Logistic Loss' ?"
   ]
  },
  {
   "cell_type": "markdown",
   "metadata": {},
   "source": [
    "$$ Loss = \\frac{1}{m}\\sum_{i=1}^{m}[-y^{(i)} log(a^{(i)})-(1-y^{(i)})log(1-a^{(i)})] $$"
   ]
  },
  {
   "cell_type": "markdown",
   "metadata": {},
   "source": [
    "#### 4. Assume that you are building a binary classifier for detecting if an image containing cats, which activation functions would you recommen using for the output layer ?\n",
    "\n",
    "A. ReLU    \n",
    "B. Leaky ReLU    \n",
    "C. sigmoid    \n",
    "D. tanh  "
   ]
  },
  {
   "cell_type": "markdown",
   "metadata": {},
   "source": [
    "C"
   ]
  },
  {
   "cell_type": "markdown",
   "metadata": {},
   "source": [
    "#### 5. Why we don't use zero initialization for all parameters ?"
   ]
  },
  {
   "cell_type": "markdown",
   "metadata": {},
   "source": [
    "如果全部初始化为0，那么所有的线性函数都会变成相同的，如此多个线性函数便相当于只有一个线性函数，因此不用0初始化全部参数。"
   ]
  },
  {
   "cell_type": "markdown",
   "metadata": {},
   "source": [
    "#### 6. Can you implement the softmax function using python ? "
   ]
  },
  {
   "cell_type": "raw",
   "metadata": {},
   "source": [
    "def softmax(array):\n",
    "    array -= np.max(array)\n",
    "    return np.exp(array) / np.sum(np.exp(array))"
   ]
  },
  {
   "cell_type": "markdown",
   "metadata": {},
   "source": [
    "### 3.实践题"
   ]
  },
  {
   "cell_type": "markdown",
   "metadata": {},
   "source": [
    "#### In this practical part, you will build a simple digits recognizer to check if the digit in the image is larger than 5. This assignmnet will guide you step by step to finish your first small project in this course ."
   ]
  },
  {
   "cell_type": "markdown",
   "metadata": {},
   "source": [
    "#### 1 - Packages  \n",
    "sklearn is a famous package for machine learning.   \n",
    "matplotlib is a common package for vasualization."
   ]
  },
  {
   "cell_type": "code",
   "execution_count": 1,
   "metadata": {},
   "outputs": [],
   "source": [
    "from sklearn import datasets\n",
    "import matplotlib.pyplot as plt\n",
    "from sklearn.model_selection import train_test_split"
   ]
  },
  {
   "cell_type": "markdown",
   "metadata": {},
   "source": [
    "#### 2 - Overvie of the dataset  \n",
    "    - a training set has m_train images labeled as 0 if the digit < 5 or 1 if the digit >= 5\n",
    "    - a test set contains m_test images labels as if the digit < 5 or 1 if the digit >= 5\n",
    "    - eah image if of shape (num_px, num_px ). Thus, each image is square(height=num_px and  width = num_px)"
   ]
  },
  {
   "cell_type": "code",
   "execution_count": 2,
   "metadata": {},
   "outputs": [],
   "source": [
    "# Loading the data \n",
    "digits = datasets.load_digits()"
   ]
  },
  {
   "cell_type": "code",
   "execution_count": 3,
   "metadata": {},
   "outputs": [
    {
     "data": {
      "image/png": "[encoded data removed]",
      "text/plain": [
       "<Figure size 432x288 with 10 Axes>"
      ]
     },
     "metadata": {},
     "output_type": "display_data"
    }
   ],
   "source": [
    "# Vilizating the data\n",
    "for i in range(10):\n",
    "    plt.subplot(2,5,i+1)\n",
    "    plt.imshow(digits.data[i].reshape([8,8]),cmap=plt.cm.gray_r)\n",
    "    plt.text(3,10,str(digits.target[i]))\n",
    "    plt.xticks([])\n",
    "    plt.yticks([])\n",
    "plt.show()"
   ]
  },
  {
   "cell_type": "code",
   "execution_count": 4,
   "metadata": {},
   "outputs": [],
   "source": [
    "# Split the data into training set and test set \n",
    "X_train, X_test, y_train, y_test = train_test_split(digits.data, digits.target, test_size=0.25)"
   ]
  },
  {
   "cell_type": "code",
   "execution_count": 5,
   "metadata": {},
   "outputs": [],
   "source": [
    "# reformulate the label. \n",
    "# If the digit is smaller than 5, the label is 0.\n",
    "# If the digit is larger than 5, the label is 1.\n",
    "\n",
    "y_train[y_train < 5 ] = 0\n",
    "y_train[y_train >= 5] = 1\n",
    "y_test[y_test < 5] = 0\n",
    "y_test[y_test >= 5] = 1"
   ]
  },
  {
   "cell_type": "code",
   "execution_count": 6,
   "metadata": {},
   "outputs": [
    {
     "name": "stdout",
     "output_type": "stream",
     "text": [
      "(1347, 64)\n",
      "(450, 64)\n",
      "(1347,)\n",
      "(450,)\n"
     ]
    }
   ],
   "source": [
    "print(X_train.shape)\n",
    "print(X_test.shape)\n",
    "print(y_train.shape)\n",
    "print(y_test.shape)"
   ]
  },
  {
   "cell_type": "code",
   "execution_count": 7,
   "metadata": {},
   "outputs": [
    {
     "name": "stdout",
     "output_type": "stream",
     "text": [
      "(1347, 1)\n",
      "(450, 1)\n"
     ]
    }
   ],
   "source": [
    "y_train = y_train.reshape(len(y_train),-1)\n",
    "y_test = y_test.reshape(len(y_test),-1)\n",
    "print(y_train.shape)\n",
    "print(y_test.shape)"
   ]
  },
  {
   "cell_type": "markdown",
   "metadata": {},
   "source": [
    "#### 3- Architecture of the neural network"
   ]
  },
  {
   "cell_type": "markdown",
   "metadata": {},
   "source": [
    "##### Mathematical expression of the algorithm:"
   ]
  },
  {
   "cell_type": "markdown",
   "metadata": {},
   "source": [
    "For one example $x^{(i)}$:   \n",
    " $$ z^{(i)} = w^T * x^{(i)} +b $$   \n",
    " $$ y^{(i)} = a^{(i)} = sigmoid(z^{(i)})$$   \n",
    " $$L(a^{(i)},y^{(i)}) = -y^{(i)} log(a^{(i)})-(1-y^{(i)})log(1-a^{(i)})$$"
   ]
  },
  {
   "cell_type": "markdown",
   "metadata": {},
   "source": [
    "The total cost over all training examples:\n",
    "$$ J = \\frac{1}{m}\\sum_{i=1}^{m}L(a^{(i)},y^{(i)}) $$"
   ]
  },
  {
   "cell_type": "markdown",
   "metadata": {},
   "source": [
    "#### 4 - Building the algorithm"
   ]
  },
  {
   "cell_type": "markdown",
   "metadata": {},
   "source": [
    "##### 4.1- Activation function    \n",
    "###### Exercise:\n",
    "Finish the sigmoid funciton "
   ]
  },
  {
   "cell_type": "code",
   "execution_count": 8,
   "metadata": {},
   "outputs": [],
   "source": [
    "import numpy as np"
   ]
  },
  {
   "cell_type": "code",
   "execution_count": 9,
   "metadata": {},
   "outputs": [],
   "source": [
    "def sigmoid(z):\n",
    "    '''\n",
    "    Compute the sigmoid of z\n",
    "    Arguments: z -- a scalar or numpy array of any size.\n",
    "    \n",
    "    Return:\n",
    "    s -- sigmoid(z)\n",
    "    '''\n",
    "    return 1./(1. + np.exp(-1 * z))"
   ]
  },
  {
   "cell_type": "code",
   "execution_count": 10,
   "metadata": {},
   "outputs": [
    {
     "name": "stdout",
     "output_type": "stream",
     "text": [
      "sigmoid([0,2]) = [0.5        0.88079708]\n"
     ]
    }
   ],
   "source": [
    "# Test your code \n",
    "# The result should be [0.5 0.88079708]\n",
    "print(\"sigmoid([0,2]) = \" + str(sigmoid(np.array([0,2]))))"
   ]
  },
  {
   "cell_type": "markdown",
   "metadata": {},
   "source": [
    "##### 4.1-Initializaing parameters\n",
    "###### Exercise:\n",
    "Finishe the initialize_parameters function below"
   ]
  },
  {
   "cell_type": "code",
   "execution_count": 11,
   "metadata": {},
   "outputs": [],
   "source": [
    "# Random innitialize the parameters\n",
    "\n",
    "def initialize_parameters(dim):\n",
    "    '''\n",
    "    Argument: dim -- size of the w vector\n",
    "    \n",
    "    Returns:\n",
    "    w -- initialized vector of shape (dim,1)\n",
    "    b -- initializaed scalar\n",
    "    '''\n",
    "    \n",
    "    w = np.random.randn(dim, 1)\n",
    "    b = np.random.random()\n",
    "    \n",
    "    assert(w.shape == (dim,1))\n",
    "    assert(isinstance(b,float) or isinstance(b,int))\n",
    "    \n",
    "    return w,b"
   ]
  },
  {
   "cell_type": "markdown",
   "metadata": {},
   "source": [
    "#### 4.3-Forward and backward propagation"
   ]
  },
  {
   "cell_type": "markdown",
   "metadata": {},
   "source": [
    "###### Some mathematical expressions\n",
    "Forward Propagation:   \n",
    ". X    \n",
    ". A = $\\sigma(w^T*X+b) = (a^{(1)},a^{(2)},...,a^{(m)}$   \n",
    ". J = $-\\frac{1}{m} \\sum_{i=1}^{m}y^{(i)}log(a^{(i)}+(1-y^{(i)})log(1-a^{(i)})$       "
   ]
  },
  {
   "cell_type": "markdown",
   "metadata": {},
   "source": [
    "Some derivative: \n",
    "$$\\frac{\\partial{J}}{\\partial{w}} = \\frac{1}{m}X*(A-Y)^T$$   \n",
    "$$\\frac{\\partial{J}}{\\partial{b}} = \\frac{1}{m}\\sum_{i=1}^m(a^{(i)}-y^{(i)}) $$"
   ]
  },
  {
   "cell_type": "markdown",
   "metadata": {},
   "source": [
    "###### Exercise:\n",
    "Finish the function below:"
   ]
  },
  {
   "cell_type": "code",
   "execution_count": 12,
   "metadata": {},
   "outputs": [],
   "source": [
    "def propagate(w,b,X,Y):\n",
    "    '''\n",
    "    Implement the cost function and its gradient for the propagation\n",
    "    \n",
    "    Arguments:\n",
    "    w - weights\n",
    "    b - bias\n",
    "    X - data\n",
    "    Y - ground truth\n",
    "    '''\n",
    "    m = X.shape[1]\n",
    "    A_ = np.dot(X, w) + b\n",
    "    \n",
    "    #直接套用sigmoid计算cost会有误差\n",
    "    cost = -1 / m * sum([- y[0] * np.log(1 + np.exp(-a[0])) - (1 - y[0]) * np.log(1 + np.exp(a[0])) for y,a in zip(list(Y), list(A_))])\n",
    "    \n",
    "    A = sigmoid(A_)\n",
    "    dw = np.dot((A - Y).T, X) / m\n",
    "    dw = dw.reshape(dw.shape[1], dw.shape[0])\n",
    "    db = sum([(a - y)for y,a in zip(list(Y), list(A))]) / m\n",
    "    \n",
    "    assert(dw.shape == w.shape)\n",
    "    assert(db.dtype == float)\n",
    "    cost = np.squeeze(cost)\n",
    "    assert(cost.shape == ())\n",
    "    \n",
    "    grads = {'dw':dw,\n",
    "             'db':db}\n",
    "    return grads, cost"
   ]
  },
  {
   "cell_type": "code",
   "execution_count": 13,
   "metadata": {},
   "outputs": [
    {
     "data": {
      "text/plain": [
       "0.9999999999999996"
      ]
     },
     "execution_count": 13,
     "metadata": {},
     "output_type": "execute_result"
    }
   ],
   "source": [
    "1. / (1. + np.exp(-1 * 35.53426866))"
   ]
  },
  {
   "cell_type": "code",
   "execution_count": 14,
   "metadata": {},
   "outputs": [
    {
     "data": {
      "text/plain": [
       "1.0"
      ]
     },
     "execution_count": 14,
     "metadata": {},
     "output_type": "execute_result"
    }
   ],
   "source": [
    "(1. + np.exp(-1 * 40.0))"
   ]
  },
  {
   "cell_type": "markdown",
   "metadata": {},
   "source": [
    "##### 4.4 -Optimization"
   ]
  },
  {
   "cell_type": "markdown",
   "metadata": {},
   "source": [
    "###### Exercise:\n",
    "Minimizing the cost function using gradient descent.   \n",
    "$$\\theta = \\theta - \\alpha*d\\theta$$ where $\\alpha$ is the learning rate."
   ]
  },
  {
   "cell_type": "code",
   "execution_count": 15,
   "metadata": {},
   "outputs": [],
   "source": [
    "def optimize(w, b, X, Y, num_iterations, learning_rate, print_cost=False):\n",
    "    '''\n",
    "    This function optimize w and b by running a gradient descen algorithm\n",
    "    \n",
    "    Arguments:\n",
    "    w - weights\n",
    "    b - bias\n",
    "    X - data\n",
    "    Y - ground truth\n",
    "    num_iterations -- number of iterations of the optimization loop\n",
    "    learning_rate -- learning rate of the gradient descent update rule\n",
    "    print_cost -- True to print the loss every 100 steps\n",
    "    \n",
    "    Returns:\n",
    "    params - dictionary containing the weights w and bias b\n",
    "    grads -- dictionary containing the gradients of the weights and bias with respect to the cost function\n",
    "    costs -- list of all the costs computed during the optimization, this will be used to plot the learning curve.\n",
    "    \n",
    "    '''\n",
    "    \n",
    "    costs = []\n",
    "    \n",
    "    for i in range(num_iterations):\n",
    "        \n",
    "        grads, cost = propagate(w,b,X,Y)\n",
    "        \n",
    "        dw = grads['dw']\n",
    "        db = grads['db']\n",
    "        \n",
    "        w -= learning_rate * dw\n",
    "        b -= learning_rate * db\n",
    "        \n",
    "        if i % 100 == 0:\n",
    "            costs.append(cost)\n",
    "        if print_cost and i % 100 == 0:\n",
    "            print (\"Cost after iteration %i: %f\" %(i, cost))\n",
    "    \n",
    "    params = {\"w\":w,\n",
    "              \"b\":b}\n",
    "    \n",
    "    grads = {\"dw\":dw,\n",
    "             \"db\":db}\n",
    "    \n",
    "    return params, grads, costs"
   ]
  },
  {
   "cell_type": "markdown",
   "metadata": {},
   "source": [
    "###### Exercise\n",
    "The previous function will output the learned w and b. We are able to use w and b to predict the labels for a dataset X. Implement the predict() function.    \n",
    "Two steps to finish this task:   \n",
    "1. Calculate $\\hat{Y} = A = \\sigma(w^T*X+b)$   \n",
    "2. Convert the entries of a into 0 (if activation <= 0.5) or 1 (if activation > 0.5), stores the predictions in a vector Y_prediction. If you wish, you can use an if/else statement in a for loop (though there is also a way to vectorize this)."
   ]
  },
  {
   "cell_type": "code",
   "execution_count": 16,
   "metadata": {},
   "outputs": [],
   "source": [
    "def predict(w, b, X):\n",
    "    '''\n",
    "    Predict whether the label is 0 or 1 using learned logistic regression parameters (w, b)\n",
    "    \n",
    "    Arguments:\n",
    "    w -- weights\n",
    "    b -- bias \n",
    "    X -- data \n",
    "    \n",
    "    Returns:\n",
    "    Y_prediction -- a numpy array (vector) containing all predictions (0/1) for the examples in X\n",
    "    '''\n",
    "    m = X.shape[0]\n",
    "    Y_prediction = np.zeros((1,m))\n",
    "    \n",
    "    A = sigmoid(np.dot(X, w) + b)\n",
    "    \n",
    "    for i in range(A.shape[0]):\n",
    "        if A[i][0] > 0.5:\n",
    "            Y_prediction[0][i] = 1\n",
    "    \n",
    "    assert(Y_prediction.shape == (1,m))\n",
    "    \n",
    "    return Y_prediction"
   ]
  },
  {
   "cell_type": "markdown",
   "metadata": {},
   "source": [
    "##### 5- Merge all functions into a model"
   ]
  },
  {
   "cell_type": "markdown",
   "metadata": {},
   "source": [
    "Congratulations !! You have finished all the necessary components for constructing a model. Now, Let's take the challenge to merge all the implemented function into one model."
   ]
  },
  {
   "cell_type": "code",
   "execution_count": 17,
   "metadata": {},
   "outputs": [],
   "source": [
    "def model(X_train, Y_train, X_test, Y_test, num_iterations, learning_rate, print_cost):\n",
    "    \"\"\"\n",
    "    Build the logistic regression model by calling all the functions you have implemented.\n",
    "    Arguments:\n",
    "    X_train - training set\n",
    "    Y_train - training label\n",
    "    X_test - test set\n",
    "    Y_test - test label\n",
    "    num_iteration - hyperparameter representing the number of iterations to optimize the parameters\n",
    "    learning_rate -- hyperparameter representing the learning rate used in the update rule of optimize()\n",
    "    print_cost -- Set to true to print the cost every 100 iterations\n",
    "    \n",
    "    Returns:\n",
    "    d - dictionary should contain following information w,b,training_accuracy, test_accuracy,cost\n",
    "    eg: d = {\"w\":w,\n",
    "             \"b\":b,\n",
    "             \"training_accuracy\": traing_accuracy,\n",
    "             \"test_accuracy\":test_accuracy,\n",
    "             \"cost\":cost}\n",
    "    \"\"\"\n",
    "    w, b = initialize_parameters(X_train.shape[1])\n",
    "    params, grads, costs = optimize(w, b, X_train, Y_train, num_iterations, learning_rate, print_cost)\n",
    "    w = params['w']\n",
    "    b = params['b']\n",
    "    \n",
    "    traing_cou = 0.0\n",
    "    y_ = predict(w, b, X_train)\n",
    "    for i in range(Y_train.shape[0]):\n",
    "        if y_[0][i] == Y_train[i][0]:\n",
    "            traing_cou += 1.0\n",
    "            \n",
    "    test_cou = 0.0\n",
    "    y__ = predict(w, b, X_test)\n",
    "    for i in range(Y_test.shape[0]):\n",
    "        if y__[0][i] == Y_test[i][0]:\n",
    "            test_cou += 1.0\n",
    "            \n",
    "    traing_cou /= Y_train.shape[0]\n",
    "    test_cou /= Y_test.shape[0]\n",
    "    d = {\"w\":w,\n",
    "         \"b\":b,\n",
    "         \"training_accuracy\": traing_cou,\n",
    "         \"test_accuracy\":test_cou,\n",
    "         \"cost\":costs}\n",
    "    return d"
   ]
  },
  {
   "cell_type": "code",
   "execution_count": 18,
   "metadata": {},
   "outputs": [
    {
     "data": {
      "text/plain": [
       "{'w': array([[ 0.63809884],\n",
       "        [-0.38585797],\n",
       "        [ 1.05803839],\n",
       "        [ 0.24980951],\n",
       "        [-0.24713432],\n",
       "        [ 2.51532404],\n",
       "        [ 1.24704124],\n",
       "        [ 1.32243989],\n",
       "        [-0.39034533],\n",
       "        [-0.432724  ],\n",
       "        [ 1.4562884 ],\n",
       "        [-0.47791955],\n",
       "        [-1.83352847],\n",
       "        [ 0.87338259],\n",
       "        [ 1.45765299],\n",
       "        [ 0.28450882],\n",
       "        [-1.52261453],\n",
       "        [-0.87082972],\n",
       "        [ 3.02905488],\n",
       "        [-1.08613447],\n",
       "        [-4.72000238],\n",
       "        [-2.37036408],\n",
       "        [-1.3802432 ],\n",
       "        [ 0.47259787],\n",
       "        [ 0.50753923],\n",
       "        [-2.99596078],\n",
       "        [ 1.17361298],\n",
       "        [ 4.77520266],\n",
       "        [ 0.54082003],\n",
       "        [ 1.55160015],\n",
       "        [-1.03488762],\n",
       "        [ 0.96192389],\n",
       "        [-0.26660299],\n",
       "        [-2.75334338],\n",
       "        [ 0.86071533],\n",
       "        [ 3.2122146 ],\n",
       "        [ 0.26028657],\n",
       "        [ 0.50911643],\n",
       "        [ 0.23586312],\n",
       "        [ 1.06274581],\n",
       "        [ 0.58474953],\n",
       "        [-0.93603309],\n",
       "        [-1.00106618],\n",
       "        [-0.10590742],\n",
       "        [-1.48732542],\n",
       "        [ 0.70098127],\n",
       "        [ 3.31026794],\n",
       "        [-0.41736527],\n",
       "        [-0.6039875 ],\n",
       "        [-0.57571538],\n",
       "        [ 1.29781372],\n",
       "        [-0.67554388],\n",
       "        [-5.41967453],\n",
       "        [-2.37829217],\n",
       "        [-0.81600325],\n",
       "        [-0.53366522],\n",
       "        [-1.61701482],\n",
       "        [ 1.03974267],\n",
       "        [-2.21803699],\n",
       "        [-0.29913592],\n",
       "        [-3.54995148],\n",
       "        [-0.64661575],\n",
       "        [-0.37147972],\n",
       "        [-0.88733768]]),\n",
       " 'b': array([0.95638006]),\n",
       " 'training_accuracy': 0.7988121752041574,\n",
       " 'test_accuracy': 0.8133333333333334,\n",
       " 'cost': [874.0765624706953]}"
      ]
     },
     "execution_count": 18,
     "metadata": {},
     "output_type": "execute_result"
    }
   ],
   "source": [
    "model(X_train, y_train, X_test, y_test, 50, 1e-2, False)"
   ]
  },
  {
   "cell_type": "markdown",
   "metadata": {},
   "source": [
    "### 4.选做题"
   ]
  },
  {
   "cell_type": "markdown",
   "metadata": {},
   "source": [
    "Congratulations on building your first logistic regression model. It is your time to analyze it further."
   ]
  },
  {
   "cell_type": "markdown",
   "metadata": {},
   "source": [
    "##### 4.1 Observe the effect of learning rate on the leraning process.   \n",
    "Hits: plot the learning curve with different learning rate"
   ]
  },
  {
   "cell_type": "code",
   "execution_count": 19,
   "metadata": {},
   "outputs": [],
   "source": [
    "d1 = model(X_train, y_train, X_test, y_test, 1000, 1e-2, False)\n",
    "d2 = model(X_train, y_train, X_test, y_test, 1000, 1e-4, False)\n",
    "d3 = model(X_train, y_train, X_test, y_test, 1000, 1e-6, False)\n",
    "d4 = model(X_train, y_train, X_test, y_test, 1000, 1e-8, False)\n",
    "d5 = model(X_train, y_train, X_test, y_test, 1000, 1e-10, False)"
   ]
  },
  {
   "cell_type": "code",
   "execution_count": 20,
   "metadata": {},
   "outputs": [
    {
     "data": {
      "text/plain": [
       "[<matplotlib.lines.Line2D at 0x1c87e5c52e8>]"
      ]
     },
     "execution_count": 20,
     "metadata": {},
     "output_type": "execute_result"
    },
    {
     "data": {
      "image/png": "[encoded data removed]",
      "text/plain": [
       "<Figure size 432x288 with 1 Axes>"
      ]
     },
     "metadata": {
      "needs_background": "light"
     },
     "output_type": "display_data"
    }
   ],
   "source": [
    "d_test = [d1['test_accuracy'], d2['test_accuracy'], d3['test_accuracy'], d4['test_accuracy'], d5['test_accuracy']]\n",
    "d_train = [d1['training_accuracy'], d2['training_accuracy'], d3['training_accuracy'], d4['training_accuracy'], d5['training_accuracy']]\n",
    "plt.plot(d_test, color='red')\n",
    "plt.plot(d_train, color='green')"
   ]
  },
  {
   "cell_type": "markdown",
   "metadata": {},
   "source": [
    "##### 4.2 Observe the effect of iteration_num on the test accuracy."
   ]
  },
  {
   "cell_type": "code",
   "execution_count": 21,
   "metadata": {},
   "outputs": [],
   "source": [
    "t1 = model(X_train, y_train, X_test, y_test, 100, 1e-5, False)\n",
    "t2 = model(X_train, y_train, X_test, y_test, 500, 1e-5, False)\n",
    "t3 = model(X_train, y_train, X_test, y_test, 1000, 1e-5, False)\n",
    "t4 = model(X_train, y_train, X_test, y_test, 3000, 1e-5, False)\n",
    "t5 = model(X_train, y_train, X_test, y_test, 5000, 1e-5, False)\n",
    "t6 = model(X_train, y_train, X_test, y_test, 7000, 1e-5, False)"
   ]
  },
  {
   "cell_type": "code",
   "execution_count": 22,
   "metadata": {},
   "outputs": [
    {
     "data": {
      "text/plain": [
       "[<matplotlib.lines.Line2D at 0x1c87f97f940>]"
      ]
     },
     "execution_count": 22,
     "metadata": {},
     "output_type": "execute_result"
    },
    {
     "data": {
      "image/png": "[encoded data removed]",
      "text/plain": [
       "<Figure size 432x288 with 1 Axes>"
      ]
     },
     "metadata": {
      "needs_background": "light"
     },
     "output_type": "display_data"
    }
   ],
   "source": [
    "t_test = [t1['test_accuracy'], t2['test_accuracy'], t3['test_accuracy'], t4['test_accuracy'], t5['test_accuracy'], t6['test_accuracy']]\n",
    "plt.plot(t_test)"
   ]
  },
  {
   "cell_type": "markdown",
   "metadata": {},
   "source": [
    "# Challenge ! ! !\n",
    "\n",
    "The original data have images labeled 0,1,2,3,4,5,6,7,8,9. In our logistic model, we only detect if the digit in the image is larger or smaller than 5. Now, Let's go for a more challenging problem. Try to use softmax function to build a model to recognize which digits (0,1,2,3,4,5,6,7,8,9) is in the image."
   ]
  },
  {
   "cell_type": "code",
   "execution_count": 23,
   "metadata": {},
   "outputs": [],
   "source": [
    "def softmax(array):\n",
    "    array -= np.max(array)\n",
    "    return np.exp(array) / np.sum(np.exp(array))"
   ]
  },
  {
   "cell_type": "code",
   "execution_count": 24,
   "metadata": {},
   "outputs": [],
   "source": [
    "def initialize_parameters(dim):\n",
    "    w = np.random.randn(dim, 10)\n",
    "    b = np.random.random()\n",
    "    \n",
    "    assert(w.shape == (dim,10))\n",
    "    assert(isinstance(b,float) or isinstance(b,int))\n",
    "    \n",
    "    return w,b\n",
    "\n",
    "def propagate(w,b,X,Y):\n",
    "    m = X.shape[1]\n",
    "    A = np.array([softmax(i) for i in (np.dot(X, w) + b)])\n",
    "    cost = sum([-1 * sum(y * np.log(a)) for a,y in zip(A, Y)]) / m\n",
    "    \n",
    "    dw = np.dot((A - Y).T, X) / m\n",
    "    dw = dw.reshape(dw.shape[1], dw.shape[0])\n",
    "    db = sum([(a - y)for y,a in zip(list(Y), list(A))]) / m\n",
    "    \n",
    "    assert(dw.shape == w.shape)\n",
    "    assert(db.dtype == float)\n",
    "    cost = np.squeeze(cost)\n",
    "    assert(cost.shape == ())\n",
    "    \n",
    "    grads = {'dw':dw,\n",
    "             'db':db}\n",
    "    return grads, cost\n",
    "\n",
    "def predict(w, b, X):\n",
    "    m = X.shape[0]\n",
    "    Y_prediction = np.zeros((10,m))\n",
    "    \n",
    "    A = np.array([softmax(i) for i in (np.dot(X, w) + b)])\n",
    "    \n",
    "    for i in range(A.shape[0]):\n",
    "        temp = float('-inf')\n",
    "        tp = 0\n",
    "        for j in range(A.shape[1]):\n",
    "            if A[i][j] > temp:\n",
    "                temp = A[i][j]\n",
    "                tp = j\n",
    "        Y_prediction[tp][i] = tp\n",
    "    \n",
    "    assert(Y_prediction.shape == (10,m))\n",
    "    \n",
    "    return Y_prediction\n",
    "\n",
    "def model(X_train, Y_train, X_test, Y_test, num_iterations, learning_rate, print_cost):\n",
    "    w, b = initialize_parameters(X_train.shape[1])\n",
    "    params, grads, costs = optimize(w, b, X_train, Y_train, num_iterations, learning_rate, print_cost)\n",
    "    w = params['w']\n",
    "    b = params['b']\n",
    "    \n",
    "    traing_cou = 0.0\n",
    "    y_ = predict(w, b, X_train)\n",
    "    for i in range(Y_train.shape[0]):\n",
    "        temp = 0.0\n",
    "        for j in range(Y_train.shape[1]):\n",
    "            if y_[j][i] == Y_train[i][j]:\n",
    "                temp += 1.0\n",
    "        if temp == Y_train.shape[1]:\n",
    "            traing_cou += 1.0\n",
    "            \n",
    "    test_cou = 0.0\n",
    "    y__ = predict(w, b, X_test)\n",
    "    for i in range(Y_test.shape[0]):\n",
    "        temp = 0.0\n",
    "        for j in range(Y_test.shape[1]):\n",
    "            if y__[j][i] == Y_test[i][j]:\n",
    "                temp += 1.0\n",
    "        if temp == Y_test.shape[1]:\n",
    "            test_cou += 1.0\n",
    "            \n",
    "    traing_cou /= Y_train.shape[0]\n",
    "    test_cou /= Y_test.shape[0]\n",
    "    d = {\"w\":w,\n",
    "         \"b\":b,\n",
    "         \"training_accuracy\": traing_cou,\n",
    "         \"test_accuracy\":test_cou,\n",
    "         \"cost\":costs}\n",
    "    return d"
   ]
  },
  {
   "cell_type": "code",
   "execution_count": 25,
   "metadata": {},
   "outputs": [],
   "source": [
    "X_train_1, X_test_1, y_train_1, y_test_1 = train_test_split(digits.data, digits.target, test_size=0.25)\n",
    "y_train_1 = y_train_1.reshape(len(y_train_1),-1)\n",
    "y_test_1 = y_test_1.reshape(len(y_test_1),-1)\n",
    "y_tr_1 = np.zeros((y_train_1.shape[0], 10))\n",
    "y_te_1 = np.zeros((y_test_1.shape[0], 10))\n",
    "for i in range(y_train_1.shape[0]):\n",
    "    y_tr_1[i][y_train_1[i]] = y_train_1[i]\n",
    "for i in range(y_test_1.shape[0]):\n",
    "    y_te_1[i][y_test_1[i]] = y_test_1[i]"
   ]
  },
  {
   "cell_type": "code",
   "execution_count": 26,
   "metadata": {},
   "outputs": [
    {
     "data": {
      "text/plain": [
       "{'w': array([[ 6.86899666e-01, -1.15961225e+00,  1.89337865e+00,\n",
       "         -1.68850054e+00, -5.21171972e-01, -1.42633958e+00,\n",
       "          1.52301831e-01,  2.29754823e-01, -4.47758667e-03,\n",
       "         -1.05293847e+00],\n",
       "        [-3.11301966e-01, -4.37520857e-01,  3.35808577e-01,\n",
       "         -7.71654894e-01,  1.69024476e+00, -9.77799559e-02,\n",
       "         -5.82553113e-01, -1.19335828e+00, -1.52732225e-01,\n",
       "         -1.30503461e+00],\n",
       "        [-6.62595371e-01, -4.07629717e-01, -2.88079967e-01,\n",
       "         -8.13090425e-02, -8.84904987e-01,  6.24070797e-01,\n",
       "          7.04688798e-01,  5.15019183e-01,  1.30355384e-01,\n",
       "          8.79319319e-01],\n",
       "        [-1.57068633e+00, -3.69331734e-01,  1.02572376e+00,\n",
       "          1.27391861e+00, -1.71738792e-01, -1.17076231e-01,\n",
       "          1.17661616e-03, -7.54981658e-01,  8.06456744e-01,\n",
       "         -1.60976698e+00],\n",
       "        [-9.19298276e-01,  2.01431861e-01, -1.81820507e+00,\n",
       "          4.68211443e-01,  1.66242973e-01,  5.05492654e-01,\n",
       "         -6.80427117e-02, -6.93779809e-01,  1.09689212e+00,\n",
       "         -7.87443210e-02],\n",
       "        [-3.42192904e-01,  4.47346401e-01, -2.24131057e+00,\n",
       "         -1.06559972e+00, -4.74115062e-01,  2.76562372e-01,\n",
       "          1.85812720e+00, -4.64209809e-01,  1.35595636e+00,\n",
       "         -9.74804662e-01],\n",
       "        [ 6.08101463e-02,  9.19405644e-01,  1.98907889e-01,\n",
       "          5.81950726e-02,  7.05391162e-01,  9.40275312e-01,\n",
       "         -3.40929987e-01,  1.19978161e+00,  1.13510152e+00,\n",
       "         -5.19196129e-01],\n",
       "        [-1.07043176e+00,  1.68994809e+00, -1.03464904e+00,\n",
       "         -1.60836477e+00,  2.84353334e-01,  8.98818811e-04,\n",
       "         -1.80595038e+00, -7.50393141e-01, -8.22779479e-01,\n",
       "          2.54719624e-01],\n",
       "        [-1.20144693e+00, -7.14641974e-01,  4.82176523e-01,\n",
       "          7.52315637e-01,  1.07939603e+00, -1.15710857e+00,\n",
       "          4.66277569e-01,  3.87427970e-01, -8.47849219e-02,\n",
       "         -8.68766106e-02],\n",
       "        [-1.81207676e+00, -5.95372837e-01,  2.56285513e-01,\n",
       "          8.85932830e-02,  6.25036725e-01,  9.62786577e-02,\n",
       "         -4.47530665e-01, -1.60714392e+00,  1.16506325e+00,\n",
       "          4.94730470e-01],\n",
       "        [ 7.66028277e-01,  8.53995227e-01, -7.71371629e-01,\n",
       "         -3.07436845e-02,  1.32950153e+00,  5.72045405e-01,\n",
       "         -5.29478912e-01,  8.36807063e-01, -1.06475972e+00,\n",
       "          8.66646433e-01],\n",
       "        [ 2.13984197e-02, -8.73945572e-01, -1.18022395e+00,\n",
       "          2.01130911e+00,  4.09314240e-01, -4.63621395e-02,\n",
       "          7.87022962e-01,  3.76666007e-01,  6.76712187e-01,\n",
       "         -6.05088029e-01],\n",
       "        [ 9.80570982e-02,  3.80123293e-01,  1.05159895e+00,\n",
       "         -2.28412024e+00, -1.69162262e+00, -1.19270424e+00,\n",
       "          1.49861092e-01, -2.62732143e-01,  7.67857125e-01,\n",
       "          5.26997204e-01],\n",
       "        [ 9.63953685e-01,  1.16608146e+00,  6.53560835e-02,\n",
       "         -1.11635850e+00, -5.84620001e-01, -1.20357350e+00,\n",
       "         -7.20848234e-01,  5.33040973e-02,  2.46548501e-01,\n",
       "          2.17922878e-01],\n",
       "        [ 9.98522778e-01,  1.47597451e+00, -2.00786631e+00,\n",
       "          3.37105407e-01, -8.72227231e-01, -2.20445146e-01,\n",
       "         -1.80827413e+00, -1.29896775e+00, -1.85539350e-01,\n",
       "          1.29109783e+00],\n",
       "        [ 1.20598020e+00, -1.85097952e+00, -5.33141339e-01,\n",
       "         -2.83672466e-01,  3.81244424e-01, -5.42648351e-01,\n",
       "         -5.65150070e-01, -2.52792223e-01, -1.13961491e-01,\n",
       "          8.67583804e-01],\n",
       "        [ 8.98234953e-01,  3.51641389e-01,  1.55378509e-01,\n",
       "         -3.10919107e-01,  3.03169035e-01,  4.50221174e-02,\n",
       "         -3.68930255e-01,  3.79303812e-01, -7.42498539e-01,\n",
       "          1.38531717e+00],\n",
       "        [-1.19766742e+00, -9.32911183e-01,  2.09538547e+00,\n",
       "          1.16360605e-01, -2.58889456e+00, -2.18504986e+00,\n",
       "         -5.79163708e-01, -8.37821825e-01,  7.91572506e-01,\n",
       "          2.70783454e-01],\n",
       "        [-7.36292656e-01,  1.46965082e+00, -1.51737822e+00,\n",
       "         -1.73839960e-01, -9.13122535e-01, -6.65745119e-03,\n",
       "          2.21439274e+00,  4.84623155e-01,  1.62789134e+00,\n",
       "          1.10669619e+00],\n",
       "        [-6.79308880e-01,  2.69597924e+00,  1.24125133e+00,\n",
       "         -4.84704502e-01,  7.19646824e-02, -1.78897301e+00,\n",
       "          2.82308932e-01,  5.51457718e-01, -9.45755532e-02,\n",
       "          7.55928781e-01],\n",
       "        [-4.53621344e-01, -1.22695538e+00, -1.45107833e+00,\n",
       "          1.02153522e+00,  1.48224709e+00, -3.08918744e-01,\n",
       "         -5.46724624e-01, -1.45077906e+00, -5.70244662e-01,\n",
       "          5.97937068e-02],\n",
       "        [ 5.43235830e-01, -2.87102532e-01, -2.10153777e+00,\n",
       "          1.03121131e+00, -7.80789045e-01, -8.15641547e-01,\n",
       "         -8.11777465e-01,  2.76103381e-01, -1.25759724e+00,\n",
       "          6.21010134e-01],\n",
       "        [ 1.11315299e+00, -2.87127965e-01,  4.85616779e-01,\n",
       "         -2.40478601e-01, -1.49801055e+00, -2.00011474e+00,\n",
       "         -1.38222845e+00, -1.29061650e+00, -1.37755360e+00,\n",
       "         -1.74767220e-01],\n",
       "        [ 1.67591659e+00,  1.05641047e+00,  8.60728832e-01,\n",
       "         -7.64052295e-01, -4.82182023e-01, -1.12315047e+00,\n",
       "         -6.41529390e-01, -1.37477838e+00, -6.42702501e-02,\n",
       "          5.36368084e-02],\n",
       "        [-6.19566533e-01, -8.75634852e-01,  9.11682750e-01,\n",
       "         -3.37311629e-01, -1.63341369e+00, -1.98637890e+00,\n",
       "          6.61391175e-01,  1.02874027e+00,  4.17608994e-01,\n",
       "          8.08069611e-01],\n",
       "        [-2.97771956e-02, -2.63690872e-01, -2.20515147e-01,\n",
       "         -1.01397402e+00,  1.07463036e-01, -2.22208190e+00,\n",
       "          1.22472234e+00,  4.03353733e-01,  2.87471720e-01,\n",
       "          6.93806914e-01],\n",
       "        [ 1.95424978e+00,  1.26787169e+00,  2.03585462e+00,\n",
       "          2.17642736e-01, -3.65051618e-01, -1.49760281e-01,\n",
       "         -5.25386672e-01,  1.99302865e+00,  8.12826554e-02,\n",
       "         -1.11071684e-02],\n",
       "        [ 2.52426369e-01, -1.12034161e+00,  1.28299501e+00,\n",
       "         -1.52786533e-01,  1.66265017e-01,  1.69754463e+00,\n",
       "         -2.24672427e-01,  4.81818283e-01,  1.61854495e+00,\n",
       "          1.39652846e+00],\n",
       "        [ 5.25475920e-01, -3.25373896e-01,  9.77813943e-01,\n",
       "          4.56341835e-01, -4.38870439e-01,  8.92015671e-01,\n",
       "          3.17510611e-01,  5.32619335e-01, -1.16213105e-01,\n",
       "         -6.61726636e-03],\n",
       "        [-7.85463330e-01,  3.17538669e-01,  1.17109368e+00,\n",
       "          1.54755452e+00,  1.35691874e+00, -4.18758785e-01,\n",
       "         -6.29203734e-01,  3.82214089e-01, -7.47986593e-01,\n",
       "          7.36131630e-01],\n",
       "        [ 9.57230179e-01, -9.43865188e-01, -6.32084013e-01,\n",
       "         -4.76016536e-01, -8.82290610e-01,  4.96580170e-01,\n",
       "         -1.83180128e+00, -3.92682923e-01,  3.14448603e-01,\n",
       "          7.51834827e-01],\n",
       "        [ 6.29005735e-01,  9.22417685e-01,  1.00164657e+00,\n",
       "          6.04159216e-01, -5.35286623e-01, -4.34421918e-01,\n",
       "          7.32325674e-03,  2.34225714e-01,  1.71920503e+00,\n",
       "         -4.59608580e-01],\n",
       "        [-8.81887922e-01, -3.78071491e-01,  1.82918317e+00,\n",
       "          1.28862302e+00,  1.00497513e-01,  4.45104156e-01,\n",
       "         -6.79263984e-01, -4.93864075e-01,  4.75111247e-01,\n",
       "          1.32411500e+00],\n",
       "        [-1.46488277e-01,  2.75099498e-01, -1.04768812e+00,\n",
       "          1.58817355e+00, -1.10463267e+00,  3.01928052e-01,\n",
       "          4.49177058e-01,  9.89281713e-01,  2.27387705e+00,\n",
       "          8.37495527e-03],\n",
       "        [ 5.94103429e-01,  2.27650591e-01,  5.30909928e-01,\n",
       "         -5.35787030e-01, -2.41721106e-01,  6.17365115e-01,\n",
       "          1.76453118e+00, -4.96461381e-01, -5.55608805e-01,\n",
       "         -7.17251400e-01],\n",
       "        [ 4.34503011e-02, -2.10231219e-01, -1.14120884e+00,\n",
       "          2.87003745e-01, -9.83387316e-01, -1.43285150e-01,\n",
       "         -3.39745783e-01,  1.49481009e-01, -5.81271824e-01,\n",
       "         -4.57263379e-01],\n",
       "        [ 1.54252977e+00,  1.09522172e+00,  1.58170583e-01,\n",
       "          1.00701370e+00,  2.51303135e-01,  1.01057324e+00,\n",
       "         -1.43996798e-01, -5.07273755e-02, -6.26416470e-01,\n",
       "         -1.36074176e-01],\n",
       "        [-1.38363033e+00,  5.06399409e-02,  1.22886563e+00,\n",
       "          1.18208107e+00, -9.63423269e-01, -3.31265537e-02,\n",
       "          1.14875644e+00, -4.12172037e-02, -5.16030725e-02,\n",
       "         -4.32676815e-01],\n",
       "        [ 1.49545601e-01, -3.40349541e-01, -4.99424445e-01,\n",
       "          1.75558148e+00,  8.36175442e-01,  7.13678783e-01,\n",
       "         -3.64548615e-01,  5.04736416e-03,  1.90415893e+00,\n",
       "          2.01127551e-01],\n",
       "        [-6.33217952e-01, -3.09536200e-01,  3.50723322e-01,\n",
       "          1.31680731e-02,  1.05907037e+00,  8.74139620e-01,\n",
       "         -5.17096084e-01,  1.26920292e+00, -4.47912283e-01,\n",
       "          3.16212728e-01],\n",
       "        [ 1.37347708e+00, -6.03644680e-01,  2.37890878e+00,\n",
       "          5.38418049e-01, -1.29874774e-01,  1.98724569e-02,\n",
       "          7.90249113e-01, -4.08421357e-01,  4.10329958e-01,\n",
       "          4.56104021e-02],\n",
       "        [ 1.01278427e+00, -9.28375702e-01, -4.45407796e-01,\n",
       "          1.50113972e+00, -1.76072972e+00,  6.54075026e-01,\n",
       "         -1.95388358e+00,  1.55915287e+00, -1.76190576e+00,\n",
       "          1.18841895e+00],\n",
       "        [ 1.93367479e+00,  4.20863339e-01,  2.15742758e-01,\n",
       "         -2.99034827e-01,  6.11529135e-01, -8.55953729e-01,\n",
       "          1.73152631e+00,  7.69381677e-01, -1.01140033e+00,\n",
       "          1.58420402e+00],\n",
       "        [ 2.02882131e+00, -9.81728786e-01,  1.47017172e+00,\n",
       "          1.19515964e+00,  3.55726720e-01,  6.08665402e-01,\n",
       "          8.12308453e-01, -2.13526807e-01,  5.21988054e-01,\n",
       "          1.34215789e+00],\n",
       "        [-1.55620164e+00, -2.25024276e-01, -5.77879638e-02,\n",
       "          2.74844874e+00,  4.06051319e-01,  1.39661890e+00,\n",
       "          1.38595896e+00,  4.29824629e-01,  3.13553184e-01,\n",
       "         -8.73667462e-01],\n",
       "        [ 1.34529474e+00, -1.59890373e+00, -1.94956974e-01,\n",
       "         -1.91613475e-01,  9.37736138e-01, -5.90470914e-01,\n",
       "         -1.59344690e-01,  4.26316414e-02,  3.24256326e-01,\n",
       "          2.11221854e+00],\n",
       "        [ 1.37592730e+00,  6.14960445e-01,  2.91579357e-02,\n",
       "          1.32675231e+00,  9.71270266e-01, -6.45777119e-01,\n",
       "          2.01674941e+00,  8.94413076e-01,  1.31870254e+00,\n",
       "         -1.53311629e-01],\n",
       "        [ 2.12951788e+00, -3.83078694e-01, -6.34242235e-01,\n",
       "          2.02446879e+00,  6.47499074e-01,  1.36406717e+00,\n",
       "          1.92736476e-03,  2.02983529e+00,  1.03536994e+00,\n",
       "         -6.17845010e-01],\n",
       "        [-2.81946712e+00, -1.59552569e+00, -9.92985903e-01,\n",
       "          4.33500456e-01,  1.72834382e+00, -3.23317717e-01,\n",
       "          1.57981150e+00,  3.58634402e-01,  5.21045524e-01,\n",
       "         -3.89651643e-01],\n",
       "        [-1.11331634e+00,  6.27789443e-01,  8.89259557e-01,\n",
       "          1.28999157e+00, -1.44111661e+00,  1.54190167e+00,\n",
       "         -5.91861255e-01,  9.50094758e-01, -9.86891146e-01,\n",
       "         -5.51053514e-02],\n",
       "        [ 3.17641776e-01, -7.42767639e-01, -1.95513635e+00,\n",
       "          3.13229322e-02, -3.82641126e-01, -8.17746265e-01,\n",
       "          4.61038614e-01,  1.81644111e+00, -3.89040720e-01,\n",
       "          8.62654854e-02],\n",
       "        [ 7.14727339e-01, -3.09667018e-01, -3.91111999e-01,\n",
       "          9.59515571e-01, -3.19238115e-01,  4.65950874e-01,\n",
       "          1.14706740e+00, -4.40621089e-01,  3.04768058e-01,\n",
       "         -4.27597536e-02],\n",
       "        [ 5.01580946e-01,  9.15757512e-01,  9.85623081e-01,\n",
       "          1.24241260e+00, -5.21027257e-01,  2.33749804e+00,\n",
       "         -5.87834341e-01,  1.37870855e+00, -8.88870454e-01,\n",
       "          7.50822528e-01],\n",
       "        [ 1.33316218e-01,  1.03068789e+00,  9.91863503e-01,\n",
       "          1.35645331e+00,  1.73316262e-01, -5.51024197e-01,\n",
       "          2.01256482e+00, -1.65594010e+00,  1.39549471e+00,\n",
       "          3.95146888e-02],\n",
       "        [ 1.71475989e+00,  3.49031591e-01, -6.90469492e-01,\n",
       "          1.57382022e+00, -2.05452021e+00,  8.20451971e-01,\n",
       "         -7.63815368e-01,  1.25083111e+00,  2.25696799e+00,\n",
       "          3.03929030e-02],\n",
       "        [-1.11553916e+00,  1.25328038e+00, -1.05582798e+00,\n",
       "         -3.79413836e-02,  5.46914978e-01,  4.08272882e-01,\n",
       "          1.51328663e+00,  2.34755365e-01,  5.78739249e-01,\n",
       "         -4.65997677e-01],\n",
       "        [ 1.86506201e-01, -1.72456518e-01,  8.74409349e-01,\n",
       "          1.78952961e+00, -4.89836611e-01,  3.27147752e-01,\n",
       "          7.43648385e-01, -8.71194252e-03,  7.40236453e-01,\n",
       "          1.35983747e+00],\n",
       "        [-6.35276124e-01,  9.83357532e-01,  2.19525916e-01,\n",
       "          2.79940120e-01,  5.41137768e-01,  1.90912606e-01,\n",
       "         -2.01170537e+00, -2.25813970e-01,  1.43717549e+00,\n",
       "          4.38485076e-01],\n",
       "        [ 1.09316169e+00, -6.42858571e-01,  1.20986580e-01,\n",
       "          3.68234365e-01, -1.43937016e+00, -2.42016325e-01,\n",
       "          1.57788150e+00, -8.79231003e-01, -3.01847492e-01,\n",
       "          8.41112568e-01],\n",
       "        [ 1.52269534e+00,  1.50345972e+00,  8.26963348e-02,\n",
       "         -1.36543516e+00,  2.06593650e+00,  2.13158914e-01,\n",
       "         -5.29797207e-01,  5.92825406e-01,  8.40110379e-01,\n",
       "          6.87064651e-01],\n",
       "        [ 2.98835936e-01,  6.44320574e-02,  1.93246789e-01,\n",
       "         -4.67635983e-01, -5.24586356e-01,  1.61045970e+00,\n",
       "          3.46904281e-01, -4.94893070e-01, -6.31965800e-01,\n",
       "         -3.99636284e-01],\n",
       "        [ 4.71301226e-01,  6.47483110e-02, -3.74234795e-01,\n",
       "          8.80313570e-01,  2.47685647e+00, -1.73829729e-02,\n",
       "         -7.03455591e-01, -1.25805536e+00, -6.12357126e-02,\n",
       "          7.62876933e-01],\n",
       "        [ 4.56742120e-01,  3.43839147e-01,  8.49417966e-02,\n",
       "         -6.27707888e-02, -1.25717148e+00, -1.22194041e+00,\n",
       "          1.04464056e+00,  2.58073912e-01,  1.11108927e+00,\n",
       "          1.82058398e+00],\n",
       "        [-4.53461396e-01,  2.73868452e-01,  1.04287393e+00,\n",
       "          1.49916562e-02,  5.66212932e-01,  1.55752510e+00,\n",
       "          7.78448893e-01,  1.58412759e-01, -1.15684600e+00,\n",
       "          1.41544363e+00]]),\n",
       " 'b': array([0.61511151, 0.63725859, 0.6484597 , 0.60008996, 0.67267845,\n",
       "        0.68359068, 0.67528573, 0.69856825, 0.70483596, 0.7140307 ]),\n",
       " 'training_accuracy': 0.2056421677802524,\n",
       " 'test_accuracy': 0.2222222222222222,\n",
       " 'cost': [7073.329367455103,\n",
       "  6933.390365269025,\n",
       "  6809.170145585964,\n",
       "  6696.063526749316,\n",
       "  6596.743957522748]}"
      ]
     },
     "execution_count": 26,
     "metadata": {},
     "output_type": "execute_result"
    }
   ],
   "source": [
    "model(X_train_1, y_tr_1, X_test_1, y_te_1, 500, 1e-5, False)"
   ]
  },
  {
   "cell_type": "markdown",
   "metadata": {},
   "source": [
    "# Congratulations ! You have completed assigment 4. "
   ]
  },
  {
   "cell_type": "code",
   "execution_count": null,
   "metadata": {},
   "outputs": [],
   "source": []
  }
 ],
 "metadata": {
  "kernelspec": {
   "display_name": "Python 3",
   "language": "python",
   "name": "python3"
  },
  "language_info": {
   "codemirror_mode": {
    "name": "ipython",
    "version": 3
   },
   "file_extension": ".py",
   "mimetype": "text/x-python",
   "name": "python",
   "nbconvert_exporter": "python",
   "pygments_lexer": "ipython3",
   "version": "3.7.1"
  }
 },
 "nbformat": 4,
 "nbformat_minor": 2
}
